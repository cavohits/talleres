{
  "nbformat": 4,
  "nbformat_minor": 0,
  "metadata": {
    "colab": {
      "provenance": [],
      "collapsed_sections": [],
      "authorship_tag": "ABX9TyOAIZ2bZhu9zVj8cePOGW+j",
      "include_colab_link": true
    },
    "kernelspec": {
      "name": "python3",
      "display_name": "Python 3"
    },
    "language_info": {
      "name": "python"
    }
  },
  "cells": [
    {
      "cell_type": "markdown",
      "metadata": {
        "id": "view-in-github",
        "colab_type": "text"
      },
      "source": [
        "<a href=\"https://colab.research.google.com/github/cavohits/talleres/blob/main/talle1.ipynb\" target=\"_parent\"><img src=\"https://colab.research.google.com/assets/colab-badge.svg\" alt=\"Open In Colab\"/></a>"
      ]
    },
    {
      "cell_type": "code",
      "execution_count": null,
      "metadata": {
        "colab": {
          "base_uri": "https://localhost:8080/"
        },
        "id": "cWSvM0R86EQH",
        "outputId": "83c9d067-f80e-4695-c889-8151950a7c59"
      },
      "outputs": [
        {
          "output_type": "execute_result",
          "data": {
            "text/plain": [
              "120"
            ]
          },
          "metadata": {},
          "execution_count": 9
        }
      ],
      "source": [
        "# PROBLEMA 1: FACTORIAL n!\n",
        "\n",
        "def fac (n):\n",
        "    \n",
        "    p=1\n",
        "    while n>0:\n",
        "      p=p*n\n",
        "      n-=1\n",
        "    return p \n",
        "\n",
        "fac(5)\n"
      ]
    },
    {
      "cell_type": "code",
      "source": [
        "#DOBLE FACTORIAL n!!\n",
        "\n",
        "def dob_fac (n):\n",
        "    p=1\n",
        "    while n>0:\n",
        "      p=p*n\n",
        "      n-=2\n",
        "    return p\n",
        "dob_fac(0)\n",
        "  "
      ],
      "metadata": {
        "colab": {
          "base_uri": "https://localhost:8080/"
        },
        "id": "iJec7cMJDhJu",
        "outputId": "792724c2-140c-45f0-c8e1-d9e8fe9d834c"
      },
      "execution_count": null,
      "outputs": [
        {
          "output_type": "execute_result",
          "data": {
            "text/plain": [
              "1"
            ]
          },
          "metadata": {},
          "execution_count": 6
        }
      ]
    },
    {
      "cell_type": "code",
      "source": [
        "from typing_extensions import Self\n",
        "#PROBLEMA 2\n",
        " #defectivos:\n",
        "a=int(input(\"digita un numero \"))\n",
        "b=int(input(\"digita un numero \"))\n",
        "\n",
        "class numeros():\n",
        "  def defectivos(n):\n",
        "    i=1\n",
        "    p=0\n",
        "    while i<n:\n",
        "      if n%i==0:\n",
        "        p=p+i\n",
        "        i+=1\n",
        "      else:\n",
        "        i+=1\n",
        "    if p<n:  \n",
        "      h=\"es defectivo\"\n",
        "    else:\n",
        "       h=\"no es defectivo\"\n",
        "    t= h + \" la suma es igual a  %.f\"%p\n",
        "    return  t\n",
        "  def abundante(n):\n",
        "    i=1\n",
        "    p=0\n",
        "    while i<n:\n",
        "      if n%i==0:\n",
        "        p=p+i\n",
        "        i+=1\n",
        "      else:\n",
        "        i+=1\n",
        "    if p>n:  \n",
        "      h=\"es abundante\"\n",
        "    else:\n",
        "      h=\"no es abundante\"\n",
        "    t= h + \" la suma es igual a  %.f\"%p\n",
        "    return  t\n",
        "  def amiwos(n,m):\n",
        "    if numeros.abundante(n)==numeros.abundante(m):\n",
        "      h=\"son amiwos\"\n",
        "    else:\n",
        "      h=\"jamas seran amiwos\"\n",
        "    return h\n",
        "  def perfecto(n):\n",
        "    i=1\n",
        "    p=0\n",
        "    while i<n:\n",
        "      if n%i==0:\n",
        "        p=p+i\n",
        "        i+=1\n",
        "      else:\n",
        "        i+=1\n",
        "    if p==n:  \n",
        "      h=\"es perfecto *_*\"\n",
        "    else:\n",
        "      h=\"jamas seras perfecto...\"\n",
        "    return  h\n",
        "  def primo(n):\n",
        "    if n==1 or n==2:\n",
        "      t=\"es primo\"\n",
        "    else:\n",
        "        for i in range (2,n-1,1):\n",
        "            if n%i==0:\n",
        "               t=\"no es primo\"\n",
        "            else:\n",
        "               t=\"es primo\"\n",
        "    return t\n",
        "print(\"a es : \\n\",numeros.abundante(a))\n",
        "print(numeros.defectivos(a))\n",
        "print(numeros.perfecto(a))\n",
        "print(numeros.primo(a))\n",
        "print(\"b es : \\n\",numeros.abundante(b))\n",
        "print(numeros.defectivos(b))\n",
        "print(numeros.perfecto(b))\n",
        "print(numeros.primo(b))\n",
        "print(numeros.amiwos(a,b))\n"
      ],
      "metadata": {
        "id": "mYL97zuWD55Z"
      },
      "execution_count": null,
      "outputs": []
    },
    {
      "cell_type": "code",
      "source": [
        "\n",
        "# PROBLEMA 3: PALINDROMO\n",
        "a=input(\"digite un numero \")\n",
        "\n",
        "if a==a[::-1]:ue:\n",
        "  print(\"es palindromo\")\n",
        "else:\n",
        "  print(\"no es palindromo\")\n"
      ],
      "metadata": {
        "id": "jDtY075baUPG"
      },
      "execution_count": null,
      "outputs": []
    },
    {
      "cell_type": "code",
      "source": [
        "from pickle import TRUE\n",
        "#PROBLEMA 4 CALCULAR PRIMOS\n",
        "\n",
        "def primos(n,m):\n",
        "    l=[]\n",
        "    \n",
        "    for i in range(n,m+1):\n",
        "      x=True \n",
        "      for j in range(2,i):\n",
        "        if i%j==0:\n",
        "          x=False\n",
        "      if x==True:\n",
        "         l.append(i)\n",
        "    return l\n",
        "primos(1,30)"
      ],
      "metadata": {
        "id": "W5dMbCufqEOn",
        "colab": {
          "base_uri": "https://localhost:8080/"
        },
        "outputId": "3b160806-7eb4-44ab-87c4-771f14316e03"
      },
      "execution_count": null,
      "outputs": [
        {
          "output_type": "execute_result",
          "data": {
            "text/plain": [
              "[1, 2, 3, 5, 7, 11, 13, 17, 19, 23, 29]"
            ]
          },
          "metadata": {},
          "execution_count": 177
        }
      ]
    },
    {
      "cell_type": "code",
      "source": [
        "#PROBLEMA 5\n",
        "l=[22, 32, 42, 12, 22, 31, 41, 11, 12, 232, 24, 12, 22]\n",
        "def quick(list):\n",
        "  aux=0\n",
        "  i=0\n",
        "  while i<len(list):\n",
        "     for j in range (0,len(list)-1):\n",
        "       if list[j]>list[j+1]:\n",
        "         aux=list[j+1]\n",
        "         list[j+1]=list[j]\n",
        "         list[j]=aux\n",
        "       else: None\n",
        "     i+=1\n",
        "   \n",
        "  return list\n",
        " \n",
        "quick(l)\n",
        "      \n",
        " "
      ],
      "metadata": {
        "id": "M_3gCN80Yfz_"
      },
      "execution_count": null,
      "outputs": []
    }
  ]
}